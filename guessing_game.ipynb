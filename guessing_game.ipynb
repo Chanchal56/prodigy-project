{
  "nbformat": 4,
  "nbformat_minor": 0,
  "metadata": {
    "colab": {
      "provenance": [],
      "authorship_tag": "ABX9TyNDoxV6HAwtauVuYuVoHz4u",
      "include_colab_link": true
    },
    "kernelspec": {
      "name": "python3",
      "display_name": "Python 3"
    },
    "language_info": {
      "name": "python"
    }
  },
  "cells": [
    {
      "cell_type": "markdown",
      "metadata": {
        "id": "view-in-github",
        "colab_type": "text"
      },
      "source": [
        "<a href=\"https://colab.research.google.com/github/Chanchal56/prodigy-project/blob/main/guessing_game.ipynb\" target=\"_parent\"><img src=\"https://colab.research.google.com/assets/colab-badge.svg\" alt=\"Open In Colab\"/></a>"
      ]
    },
    {
      "cell_type": "code",
      "source": [
        "import random\n",
        "\n",
        "MY_GUESS = random.randint(1, 100)\n",
        "\n",
        "print(\"Welcome to the Number Guessing Game!\")\n",
        "print(\"I'm thinking of a number between 1 and 100.\\n\")\n",
        "\n",
        "difficulty = str(input(\"Choose a difficulty. Type 'easy' or 'hard': \")).lower()\n",
        "\n",
        "def count(attempts):\n",
        "    count = 1\n",
        "    print(\"You have {} attempts remaining to guess the number.\\n\".format(attempts))\n",
        "    while count <= attempts:\n",
        "        guess = int(input(\"Make a guess: \"))\n",
        "        if guess == MY_GUESS:\n",
        "            print(\"You got it! The answer was {}\".format(MY_GUESS))\n",
        "            break\n",
        "        elif guess < MY_GUESS:\n",
        "            print(\"Too Low.\\nGuess Again.\\n\")\n",
        "            count += 1\n",
        "            print(\"You have {} attempts remaining\".format(attempts - count + 1))\n",
        "        elif guess > MY_GUESS:\n",
        "            print(\"Too High.\\nGuess Again.\\n\")\n",
        "            count += 1\n",
        "            print(\"You have {} attempts remaining\".format(attempts - count + 1))\n",
        "    if count > attempts:\n",
        "        print(\"Sorry, you ran out of attempts! The correct answer was {}\".format(MY_GUESS))\n",
        "\n",
        "if difficulty == 'easy':\n",
        "    count(10)\n",
        "elif difficulty == 'hard':\n",
        "    count(5)"
      ],
      "metadata": {
        "id": "OrQ7cv0_6WN1"
      },
      "execution_count": null,
      "outputs": []
    }
  ]
}
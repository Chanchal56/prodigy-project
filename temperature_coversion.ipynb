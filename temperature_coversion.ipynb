{
  "nbformat": 4,
  "nbformat_minor": 0,
  "metadata": {
    "colab": {
      "provenance": [],
      "authorship_tag": "ABX9TyPGljwOSNzuwu4O0iKyRu/8",
      "include_colab_link": true
    },
    "kernelspec": {
      "name": "python3",
      "display_name": "Python 3"
    },
    "language_info": {
      "name": "python"
    }
  },
  "cells": [
    {
      "cell_type": "markdown",
      "metadata": {
        "id": "view-in-github",
        "colab_type": "text"
      },
      "source": [
        "<a href=\"https://colab.research.google.com/github/Chanchal56/prodigy-project/blob/main/temperature_coversion.ipynb\" target=\"_parent\"><img src=\"https://colab.research.google.com/assets/colab-badge.svg\" alt=\"Open In Colab\"/></a>"
      ]
    },
    {
      "cell_type": "code",
      "execution_count": null,
      "metadata": {
        "id": "wacFQQ5ijWCp"
      },
      "outputs": [],
      "source": [
        "def convert_temperature(temperature, from_unit, to_unit):\n",
        "    numeric_value = float(temperature.split('C')[0])\n",
        "    if from_unit == 'C':\n",
        "        if to_unit == 'F':\n",
        "            return (numeric_value * 9/5) + 32\n",
        "        elif to_unit == 'K':\n",
        "            return numeric_value + 273.15\n",
        "    elif from_unit == 'F':\n",
        "        if to_unit == 'C':\n",
        "            return (numeric_value - 32) * 5/9\n",
        "        elif to_unit == 'K':\n",
        "            return (numeric_value + 459.67) * 5/9\n",
        "    elif from_unit == 'K':\n",
        "        if to_unit == 'C':\n",
        "            return numeric_value - 273.15\n",
        "        elif to_unit == 'F':\n",
        "            return (numeric_value * 9/5) - 459.67\n",
        "\n",
        "    return \"Invalid unit\"\n",
        "\n",
        "def main():\n",
        "    temperature = input(\"Enter the temperature: \")\n",
        "    from_unit = input(\"Enter the unit (C for Celsius, F for Fahrenheit, K for Kelvin): \")\n",
        "    to_unit = input(\"Enter the unit to convert to (C for Celsius, F for Fahrenheit, K for Kelvin): \")\n",
        "\n",
        "    converted_temperature = convert_temperature(temperature, from_unit, to_unit)\n",
        "    if converted_temperature != \"Invalid unit\":\n",
        "        print(f\"The temperature in {to_unit} is {converted_temperature}\")\n",
        "    else:\n",
        "        print(\"Invalid unit\")\n",
        "\n",
        "if __name__ == \"__main__\":\n",
        "    main()"
      ]
    }
  ]
}
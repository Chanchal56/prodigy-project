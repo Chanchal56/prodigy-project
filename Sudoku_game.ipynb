{
  "nbformat": 4,
  "nbformat_minor": 0,
  "metadata": {
    "colab": {
      "provenance": [],
      "authorship_tag": "ABX9TyMlhIFXfgE/4Uf4Y0z8+/v+",
      "include_colab_link": true
    },
    "kernelspec": {
      "name": "python3",
      "display_name": "Python 3"
    },
    "language_info": {
      "name": "python"
    }
  },
  "cells": [
    {
      "cell_type": "markdown",
      "metadata": {
        "id": "view-in-github",
        "colab_type": "text"
      },
      "source": [
        "<a href=\"https://colab.research.google.com/github/Chanchal56/prodigy-project/blob/main/Sudoku_game.ipynb\" target=\"_parent\"><img src=\"https://colab.research.google.com/assets/colab-badge.svg\" alt=\"Open In Colab\"/></a>"
      ]
    },
    {
      "cell_type": "code",
      "execution_count": null,
      "metadata": {
        "id": "oTtBm34w6VYf"
      },
      "outputs": [],
      "source": [
        "board = [\n",
        "    [5, 3, 0, 0, 7, 0, 0, 0, 0],\n",
        "    [6, 0, 0, 1, 9, 5, 0, 0, 0],\n",
        "    [0, 9, 8, 0, 0, 0, 0, 6, 0],\n",
        "    [8, 0, 0, 0, 6, 0, 0, 0, 3],\n",
        "    [4, 0, 0, 8, 0, 3, 0, 0, 1],\n",
        "    [7, 0, 0, 0, 2, 0, 0, 0, 6],\n",
        "    [0, 6, 0, 0, 0, 0, 2, 8, 0],\n",
        "    [0, 0, 0, 4, 1, 9, 0, 0, 5],\n",
        "    [0, 0, 0, 0, 8, 0, 0, 7, 9]\n",
        "]\n",
        "\n",
        "def print_board():\n",
        "    for i in range(9):\n",
        "        if i % 3 == 0 and i != 0:\n",
        "            print(\"- - - - - - - - - - - -\")\n",
        "        for j in range(9):\n",
        "            if j % 3 == 0 and j != 0:\n",
        "                print(\" | \", end=\"\")\n",
        "            if j == 8:\n",
        "                print(board[i][j])\n",
        "            else:\n",
        "                print(str(board[i][j]) + \" \", end=\"\")\n",
        "\n",
        "def is_valid(num, row, col):\n",
        "    for i in range(9):\n",
        "        if board[row][i] == num:\n",
        "            return False\n",
        "    for i in range(9):\n",
        "        if board[i][col] == num:\n",
        "            return False\n",
        "    start_row = row - row % 3\n",
        "    start_col = col - col % 3\n",
        "    for i in range(3):\n",
        "        for j in range(3):\n",
        "            if board[i + start_row][j + start_col] == num:\n",
        "                return False\n",
        "    return True\n",
        "\n",
        "def solve_sudoku():\n",
        "    for i in range(9):\n",
        "        for j in range(9):\n",
        "            if board[i][j] == 0:\n",
        "                for num in range(1, 10):\n",
        "                    if is_valid(num, i, j):\n",
        "                        board[i][j] = num\n",
        "                        if solve_sudoku():\n",
        "                            return True\n",
        "                        board[i][j] = 0\n",
        "                return False\n",
        "    return True\n",
        "\n",
        "def play_sudoku():\n",
        "    while True:\n",
        "        print(\"\\nSudoku Game\")\n",
        "        print(\"1. Solve Sudoku\")\n",
        "        print(\"2. Play Sudoku\")\n",
        "        print(\"3. Exit\")\n",
        "        choice = input(\"Choose an option: \")\n",
        "\n",
        "        if choice == \"1\":\n",
        "            if solve_sudoku():\n",
        "                print(\"Sudoku solved!\")\n",
        "                print_board()\n",
        "            else:2\n",
        "                print(\"No solution exists!\")\n",
        "        elif choice == \"2\":\n",
        "            print(\"Let's play Sudoku!\")\n",
        "            print_board()\n",
        "            while True:\n",
        "                row = int(input(\"Enter the row (1-9): \")) - 1\n",
        "                col = int(input(\"Enter the column (1-9): \")) - 1\n",
        "                num = int(input(\"Enter the number (1-9): \"))\n",
        "                if is_valid(num, row, col):\n",
        "                    board[row][col] = num\n",
        "                    print_board()\n",
        "                else:\n",
        "                    print(\"Invalid move! Try again.\")\n",
        "        elif choice == \"3\":\n",
        "            print(\"Goodbye!\")\n",
        "            break\n",
        "        else:\n",
        "            print(\"Invalid option. Try again!\")\n",
        "\n",
        "if __name__ == \"__main__\":\n",
        "    play_sudoku()"
      ]
    }
  ]
}
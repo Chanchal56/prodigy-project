{
  "nbformat": 4,
  "nbformat_minor": 0,
  "metadata": {
    "colab": {
      "provenance": [],
      "authorship_tag": "ABX9TyOt+ZnkyMe88X4g1QMM5Xd5",
      "include_colab_link": true
    },
    "kernelspec": {
      "name": "python3",
      "display_name": "Python 3"
    },
    "language_info": {
      "name": "python"
    }
  },
  "cells": [
    {
      "cell_type": "markdown",
      "metadata": {
        "id": "view-in-github",
        "colab_type": "text"
      },
      "source": [
        "<a href=\"https://colab.research.google.com/github/Chanchal56/prodigy-project/blob/main/Contact_Management_System.ipynb\" target=\"_parent\"><img src=\"https://colab.research.google.com/assets/colab-badge.svg\" alt=\"Open In Colab\"/></a>"
      ]
    },
    {
      "cell_type": "code",
      "execution_count": null,
      "metadata": {
        "id": "CIbO5be8k3Ky"
      },
      "outputs": [],
      "source": [
        "# Contact Management System\n",
        "\n",
        "contacts = {}\n",
        "\n",
        "def add_contact():\n",
        "    name = input(\"Enter the contact's name: \")\n",
        "    phone = input(\"Enter the contact's phone number: \")\n",
        "    email = input(\"Enter the contact's email: \")\n",
        "    contacts[name] = {\"phone\": phone, \"email\": email}\n",
        "    print(f\"Contact '{name}' added successfully!\")\n",
        "\n",
        "def view_contacts():\n",
        "    if not contacts:\n",
        "        print(\"No contacts found!\")\n",
        "    else:\n",
        "        print(\"Contacts:\")\n",
        "        for name, details in contacts.items():\n",
        "            print(f\"  {name}: {details['phone']} ({details['email']})\")\n",
        "\n",
        "def search_contact():\n",
        "    name = input(\"Enter the contact's name to search: \")\n",
        "    if name in contacts:\n",
        "        print(f\"Contact '{name}' found:\")\n",
        "        print(f\"  Phone: {contacts[name]['phone']}\")\n",
        "        print(f\"  Email: {contacts[name]['email']}\")\n",
        "    else:\n",
        "        print(f\"Contact '{name}' not found!\")\n",
        "\n",
        "def update_contact():\n",
        "    name = input(\"Enter the contact's name to update: \")\n",
        "    if name in contacts:\n",
        "        phone = input(\"Enter the new phone number: \")\n",
        "        email = input(\"Enter the new email: \")\n",
        "        contacts[name] = {\"phone\": phone, \"email\": email}\n",
        "        print(f\"Contact '{name}' updated successfully!\")\n",
        "    else:\n",
        "        print(f\"Contact '{name}' not found!\")\n",
        "\n",
        "def delete_contact():\n",
        "    name = input(\"Enter the contact's name to delete: \")\n",
        "    if name in contacts:\n",
        "        del contacts[name]\n",
        "        print(f\"Contact '{name}' deleted successfully!\")\n",
        "    else:\n",
        "        print(f\"Contact '{name}' not found!\")\n",
        "\n",
        "def main():\n",
        "    while True:\n",
        "        print(\"\\nContact Management System\")\n",
        "        print(\"1. Add Contact\")\n",
        "        print(\"2. View Contacts\")\n",
        "        print(\"3. Search Contact\")\n",
        "        print(\"4. Update Contact\")\n",
        "        print(\"5. Delete Contact\")\n",
        "        print(\"6. Exit\")\n",
        "        choice = input(\"Choose an option: \")\n",
        "\n",
        "        if choice == \"1\":\n",
        "            add_contact()\n",
        "        elif choice == \"2\":\n",
        "            view_contacts()\n",
        "        elif choice == \"3\":\n",
        "            search_contact()\n",
        "        elif choice == \"4\":\n",
        "            update_contact()\n",
        "        elif choice == \"5\":\n",
        "            delete_contact()\n",
        "        elif choice == \"6\":\n",
        "            print(\"Goodbye!\")\n",
        "            break\n",
        "        else:\n",
        "            print(\"Invalid option. Try again!\")\n",
        "\n",
        "if __name__ == \"__main__\":\n",
        "    main()"
      ]
    }
  ]
}